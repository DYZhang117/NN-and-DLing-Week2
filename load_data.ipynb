{
 "cells": [
  {
   "cell_type": "code",
   "execution_count": 1,
   "outputs": [],
   "source": [
    "import numpy as np\n",
    "import h5py\n",
    "import matplotlib.pyplot as plt"
   ],
   "metadata": {
    "collapsed": false,
    "pycharm": {
     "name": "#%%\n"
    }
   }
  },
  {
   "cell_type": "markdown",
   "source": [
    "### loading data"
   ],
   "metadata": {
    "collapsed": false,
    "pycharm": {
     "name": "#%% md\n"
    }
   }
  },
  {
   "cell_type": "code",
   "execution_count": 2,
   "outputs": [],
   "source": [
    "f = h5py.File(\"datasets/train_catvnoncat.h5\", \"r\")\n",
    "train_set_x_org = np.array(f[\"train_set_x\"][:])\n",
    "train_set_y_org = np.array(f[\"train_set_y\"][:]).reshape(1,-1)\n",
    "label = f[\"list_classes\"][:]\n",
    "\n",
    "f = h5py.File(\"datasets/test_catvnoncat.h5\", \"r\")\n",
    "test_set_x_org = np.array(f[\"test_set_x\"][:])\n",
    "test_set_y_org = np.array(f[\"test_set_y\"][:]).reshape(1,-1)\n",
    "\n",
    "num_px=train_set_x_org.shape[1]"
   ],
   "metadata": {
    "collapsed": false,
    "pycharm": {
     "name": "#%%\n"
    }
   }
  },
  {
   "cell_type": "markdown",
   "source": [
    "### reshape dataset"
   ],
   "metadata": {
    "collapsed": false,
    "pycharm": {
     "name": "#%% md\n"
    }
   }
  },
  {
   "cell_type": "code",
   "execution_count": 3,
   "outputs": [],
   "source": [
    "# reshape the original training set and testing set into X matrix\n",
    "train_set_shape = train_set_x_org.shape\n",
    "train_set_x_flatten = train_set_x_org.reshape(train_set_shape[0],-1).T\n",
    "test_set_shape = test_set_x_org.shape\n",
    "test_set_x_flatten = test_set_x_org.reshape(test_set_shape[0],-1).T"
   ],
   "metadata": {
    "collapsed": false,
    "pycharm": {
     "name": "#%%\n"
    }
   }
  },
  {
   "cell_type": "markdown",
   "source": [
    "\"To represent color images, the red, green and blue channels (RGB) must be specified for each pixel, and so the pixel value is actually a vector of three numbers ranging from 0 to 255.\n",
    "\n",
    "One common preprocessing step in machine learning is to center and standardize your dataset, meaning that you substract the mean of the whole numpy array from each example, and then divide each example by the standard deviation of the whole numpy array. But for picture datasets, it is simpler and more convenient and works almost as well to just divide every row of the dataset by 255 (the maximum value of a pixel channel).\"\n",
    "————————————————\n",
    "Above text was quoted from「wangyunpeng_bio」's article\n",
    "URL：https://blog.csdn.net/qq_29300341/article/details/77600143"
   ],
   "metadata": {
    "collapsed": false,
    "pycharm": {
     "name": "#%% md\n"
    }
   }
  },
  {
   "cell_type": "code",
   "execution_count": 4,
   "outputs": [],
   "source": [
    "train_set_x = train_set_x_flatten/255\n",
    "test_set_x =  test_set_x_flatten/255"
   ],
   "metadata": {
    "collapsed": false,
    "pycharm": {
     "name": "#%%\n"
    }
   }
  },
  {
   "cell_type": "code",
   "execution_count": 5,
   "outputs": [
    {
     "name": "stdout",
     "output_type": "stream",
     "text": [
      "The shape of training set is  (12288, 209)\n"
     ]
    }
   ],
   "source": [
    "print(\"The shape of training set is \",train_set_x.shape)"
   ],
   "metadata": {
    "collapsed": false,
    "pycharm": {
     "name": "#%%\n"
    }
   }
  },
  {
   "cell_type": "markdown",
   "source": [
    "### logistic regression"
   ],
   "metadata": {
    "collapsed": false,
    "pycharm": {
     "name": "#%% md\n"
    }
   }
  },
  {
   "cell_type": "code",
   "execution_count": 6,
   "outputs": [],
   "source": [
    "# Initialize w, b\n",
    "def Initialize(dim):\n",
    "    w = np.zeros((dim, 1))\n",
    "    b = 0\n",
    "    return w, b\n",
    "\n",
    "def Sigmoid(z):\n",
    "    return 1/(1+np.exp(-z))\n",
    "\n",
    "\n",
    "# Forward and Backward propagation\n",
    "def Pro(w, b, X, Y):\n",
    "    # Forward propagation\n",
    "    m = X.shape[1]\n",
    "    z = np.dot(w.T, X)+b\n",
    "    A = Sigmoid(z)\n",
    "    cost = (-1/m) * np.sum((Y*np.log(A) + (1-Y)*np.log(1-A)))\n",
    "\n",
    "    # Backward propagation\n",
    "    dz = A - Y\n",
    "    dw = (1/m) * np.dot(X, dz.T)\n",
    "    db = (1/m) * np.sum(dz)\n",
    "\n",
    "    cost = np.square(cost)\n",
    "    return dw, db, cost\n",
    "\n",
    "# Optimization\n",
    "def Opt(X, Y, w, b, learning_rate, num_iter, print_cost=False):\n",
    "    costs = []\n",
    "    for i in range(num_iter):\n",
    "        dw, db, cost = Pro(w, b, X, Y)\n",
    "        w = w - learning_rate * dw\n",
    "        b = b - learning_rate * db\n",
    "\n",
    "        # record the cost\n",
    "        if i % 100 == 0:\n",
    "            costs.append(cost)\n",
    "\n",
    "        if print_cost and i % 100 == 0:\n",
    "            print(\"cost after iteration %i: %f\" %(i, cost))\n",
    "\n",
    "    params = {\n",
    "        \"w\": w,\n",
    "        \"b\": b\n",
    "    }\n",
    "\n",
    "    grads = {\n",
    "        \"dw\": dw,\n",
    "        \"db\": db\n",
    "    }\n",
    "\n",
    "    return params, grads, costs"
   ],
   "metadata": {
    "collapsed": false,
    "pycharm": {
     "name": "#%%\n"
    }
   }
  },
  {
   "cell_type": "markdown",
   "source": [
    "### predict"
   ],
   "metadata": {
    "collapsed": false,
    "pycharm": {
     "name": "#%% md\n"
    }
   }
  },
  {
   "cell_type": "code",
   "execution_count": 7,
   "outputs": [],
   "source": [
    "def predict(X, Y, w, b):\n",
    "    m = X.shape[1]\n",
    "    w = w.reshape(X.shape[0],1)\n",
    "    Y_hat = Sigmoid(np.dot(w.T, X) + b)\n",
    "    Y_hat = np.where(Y_hat>0.5, 1, 0)\n",
    "    return Y_hat\n",
    "\n",
    "def model(train_set_x, test_set_x, train_set_y_org, test_set_y_org, learning_rate, num_iter, print_cost=False):\n",
    "    w, b = Initialize(train_set_x.shape[0])\n",
    "    params, grads, costs = Opt(train_set_x, train_set_y_org, w, b, learning_rate=learning_rate, num_iter=num_iter, print_cost=print_cost)\n",
    "    w, b = params[\"w\"], params[\"b\"]\n",
    "\n",
    "    train_Y_hat = predict(train_set_x, train_set_y_org, w, b)\n",
    "    test_Y_hat = predict(test_set_x, test_set_y_org, w, b)\n",
    "\n",
    "    print(\"train accuracy: {} %\".format(100 - np.mean(np.abs(train_Y_hat - train_set_y_org)) * 100))\n",
    "    print(\"test accuracy: {} %\".format(100 - np.mean(np.abs(test_Y_hat - test_set_y_org)) * 100))\n",
    "    d={\"cost\":costs,\"Y_prediction_train\":train_Y_hat,\"Y_prediction_test\":test_Y_hat,\"w\":w,\"b\":b,\"learning_rate\":learning_rate,\"num_ite\":num_iter}\n",
    "    return d"
   ],
   "metadata": {
    "collapsed": false,
    "pycharm": {
     "name": "#%%\n"
    }
   }
  },
  {
   "cell_type": "code",
   "execution_count": 24,
   "outputs": [
    {
     "name": "stdout",
     "output_type": "stream",
     "text": [
      "cost after iteration 0: 0.480453\n",
      "cost after iteration 100: 0.349623\n",
      "cost after iteration 200: 0.308909\n",
      "cost after iteration 300: 0.279816\n",
      "cost after iteration 400: 0.256929\n",
      "cost after iteration 500: 0.238027\n",
      "cost after iteration 600: 0.221943\n",
      "cost after iteration 700: 0.207978\n",
      "cost after iteration 800: 0.195674\n",
      "cost after iteration 900: 0.184712\n",
      "train accuracy: 86.60287081339713 %\n",
      "test accuracy: 62.0 %\n"
     ]
    }
   ],
   "source": [
    "# main function\n",
    "d = model(train_set_x, test_set_x, train_set_y_org, test_set_y_org, learning_rate=0.001, num_iter=1000, print_cost=True)"
   ],
   "metadata": {
    "collapsed": false,
    "pycharm": {
     "name": "#%%\n"
    }
   }
  },
  {
   "cell_type": "code",
   "execution_count": 25,
   "outputs": [
    {
     "data": {
      "text/plain": "<Figure size 432x288 with 1 Axes>",
      "image/png": "[encoded data removed]"
     },
     "metadata": {
      "needs_background": "light"
     },
     "output_type": "display_data"
    },
    {
     "name": "stdout",
     "output_type": "stream",
     "text": [
      "y = 1, you predicted that  \n",
      "it's a cat.\n"
     ]
    }
   ],
   "source": [
    "# example of a picture\n",
    "index = 8\n",
    "plt.imshow(test_set_x[:,index].reshape((num_px, num_px, 3)))\n",
    "plt.show()\n",
    "print (\"y = \" + str(test_set_y_org[0,index]) + \", you predicted that  \")\n",
    "\n",
    "if d[\"Y_prediction_test\"][0,index]==1:\n",
    "\tprint(\"it's a cat.\")\n",
    "else :\n",
    "\tprint(\"it'not a cat\")"
   ],
   "metadata": {
    "collapsed": false,
    "pycharm": {
     "name": "#%%\n"
    }
   }
  },
  {
   "cell_type": "code",
   "execution_count": 26,
   "outputs": [
    {
     "data": {
      "text/plain": "<Figure size 432x288 with 1 Axes>",
      "image/png": "[encoded data removed]"
     },
     "metadata": {
      "needs_background": "light"
     },
     "output_type": "display_data"
    }
   ],
   "source": [
    "# plot of the cost\n",
    "cost = np.squeeze(d[\"cost\"])\n",
    "plt.plot(cost)\n",
    "plt.ylabel(\"cost\")\n",
    "plt.xlabel(\"iteration (per hundreds)\")\n",
    "plt.title(\"Learning rate=\"+str(d[\"learning_rate\"]))\n",
    "plt.show()"
   ],
   "metadata": {
    "collapsed": false,
    "pycharm": {
     "name": "#%%\n"
    }
   }
  },
  {
   "cell_type": "markdown",
   "source": [
    "Reference: https://blog.csdn.net/qq_29300341/article/details/77600143?spm=1001.2101.3001.6650.4&utm_medium=distribute.pc_relevant.none-task-blog-2%7Edefault%7ECTRLIST%7Edefault-4-77600143-blog-87970461.pc_relevant_multi_platform_whitelistv1&depth_1-utm_source=distribute.pc_relevant.none-task-blog-2%7Edefault%7ECTRLIST%7Edefault-4-77600143-blog-87970461.pc_relevant_multi_platform_whitelistv1&utm_relevant_index=8"
   ],
   "metadata": {
    "collapsed": false,
    "pycharm": {
     "name": "#%% md\n"
    }
   }
  }
 ],
 "metadata": {
  "kernelspec": {
   "display_name": "Python 3",
   "language": "python",
   "name": "python3"
  },
  "language_info": {
   "codemirror_mode": {
    "name": "ipython",
    "version": 2
   },
   "file_extension": ".py",
   "mimetype": "text/x-python",
   "name": "python",
   "nbconvert_exporter": "python",
   "pygments_lexer": "ipython2",
   "version": "2.7.6"
  }
 },
 "nbformat": 4,
 "nbformat_minor": 0
}